{
 "cells": [
  {
   "cell_type": "code",
   "execution_count": 1,
   "metadata": {},
   "outputs": [],
   "source": [
    "import logging\n",
    "from kubernetes import config\n",
    "from testbed.client.manager import TestbedManager\n",
    "\n",
    "logging.basicConfig(level=logging.INFO)\n",
    "logger = logging.getLogger(__name__)\n",
    "\n",
    "config.load_kube_config()\n",
    "manager = TestbedManager(\"testbed-dev\", True)"
   ]
  },
  {
   "cell_type": "code",
   "execution_count": 2,
   "metadata": {},
   "outputs": [
    {
     "name": "stderr",
     "output_type": "stream",
     "text": [
      "INFO:testbed.client.manager:Deleting all testbeds\n",
      "INFO:testbed.client.manager:Deleted 1 testbeds\n"
     ]
    },
    {
     "name": "stdout",
     "output_type": "stream",
     "text": [
      "Deleted 1 testbeds\n"
     ]
    }
   ],
   "source": [
    "deleted_count = manager.delete_all_testbeds()\n",
    "print(f\"Deleted {deleted_count} testbeds\")"
   ]
  },
  {
   "cell_type": "code",
   "execution_count": 3,
   "metadata": {},
   "outputs": [
    {
     "name": "stdout",
     "output_type": "stream",
     "text": [
      "Testbed ID: sympy-sympy-21847-testbed-jgt78\n",
      "Instance ID: sympy__sympy-21847\n",
      "Pod Phase: Running\n",
      "Testbed Ready: True\n",
      "Sidecar Ready: True\n",
      "---\n"
     ]
    }
   ],
   "source": [
    "# For listing testbeds (summary view)\n",
    "for testbed in manager.list_testbeds():\n",
    "    print(f\"Testbed ID: {testbed.testbed_id}\")\n",
    "    print(f\"Instance ID: {testbed.instance_id}\")\n",
    "    print(f\"Pod Phase: {testbed.status.pod_phase}\")\n",
    "    print(f\"Testbed Ready: {testbed.status.testbed_ready}\")\n",
    "    print(f\"Sidecar Ready: {testbed.status.sidecar_ready}\")\n",
    "    print(\"---\")\n",
    "\n",
    "    testbed_id = testbed.testbed_id"
   ]
  },
  {
   "cell_type": "code",
   "execution_count": 4,
   "metadata": {},
   "outputs": [
    {
     "name": "stderr",
     "output_type": "stream",
     "text": [
      "INFO:testbed.client.manager:create_testbed(user: None, instance_id: sympy__sympy-21847)\n",
      "INFO:testbed.client.manager:create_testbed(user: None, instance_id: sympy__sympy-21847, testbed_id: sympy-sympy-21847-testbed-s3umq) Job and Service created successfully in namespace testbed-dev.\n"
     ]
    },
    {
     "name": "stdout",
     "output_type": "stream",
     "text": [
      "Created testbed with id sympy-sympy-21847-testbed-s3umq\n"
     ]
    }
   ],
   "source": [
    "instance_id = \"sympy__sympy-21847\"\n",
    "response = manager.create_testbed(instance_id=instance_id)\n",
    "testbed_id = response.testbed_id\n",
    "\n",
    "print(f\"Created testbed with id {testbed_id}\")"
   ]
  },
  {
   "cell_type": "code",
   "execution_count": 5,
   "metadata": {},
   "outputs": [
    {
     "name": "stdout",
     "output_type": "stream",
     "text": [
      "Testbed ID: sympy-sympy-21847-testbed-s3umq\n",
      "Pod Phase: Running\n",
      "External IP: 4.225.198.187\n",
      "Testbed Container:\n",
      "  Ready: True\n",
      "  State: running\n",
      "Sidecar Container:\n",
      "  Ready: True\n",
      "  State: running\n",
      "\n",
      "Waiting for testbed to be ready... (Elapsed time: 26s)\n",
      "Testbed sympy-sympy-21847-testbed-s3umq is ready and can be reached on http://4.225.198.187:8000!\n"
     ]
    }
   ],
   "source": [
    "testbed = manager.wait_for_testbed_ready(testbed_id)"
   ]
  },
  {
   "cell_type": "code",
   "execution_count": 6,
   "metadata": {},
   "outputs": [
    {
     "name": "stderr",
     "output_type": "stream",
     "text": [
      "INFO:testbed.client.manager:Health checking client\n",
      "INFO:testbed.client.manager:Health check successful, client ready\n"
     ]
    },
    {
     "name": "stdout",
     "output_type": "stream",
     "text": [
      "Client created\n"
     ]
    },
    {
     "data": {
      "text/plain": [
       "True"
      ]
     },
     "execution_count": 6,
     "metadata": {},
     "output_type": "execute_result"
    }
   ],
   "source": [
    "client = manager.create_client(testbed_id, timeout=120)\n",
    "print(\"Client created\")\n",
    "client.check_health()"
   ]
  },
  {
   "cell_type": "code",
   "execution_count": 18,
   "metadata": {},
   "outputs": [],
   "source": [
    "client.execute_commands([\"pwd\"])"
   ]
  },
  {
   "cell_type": "code",
   "execution_count": 23,
   "metadata": {},
   "outputs": [
    {
     "name": "stdout",
     "output_type": "stream",
     "text": [
      "/shared/commands.sh: 1: source: not found\n",
      "\n",
      "CondaError: Run 'conda init' before 'conda activate'\n",
      "\n",
      "On branch master\n",
      "nothing to commit, working tree clean\n",
      "commit d9b18c518d64d0ebe8e35a98c2fb519938b9b151\n",
      "Merge: 8daad34079 2f5dd663dd\n",
      "Author: Oscar Benjamin <oscar.j.benjamin@gmail.com>\n",
      "Date:   Tue Aug 10 00:26:06 2021 +0100\n",
      "\n",
      "    Merge pull request #21769 from redeboer/CG._latex\n",
      "    \n",
      "    Fixed rendering of Clebsch-Gordan (CG) class\n",
      "\n",
      "/shared/commands.sh: 9: source: not found\n",
      "\n",
      "CondaError: Run 'conda init' before 'conda activate'\n",
      "\n",
      "Obtaining file:///testbed\n",
      "  Preparing metadata (setup.py): started\n",
      "  Preparing metadata (setup.py): finished with status 'done'\n",
      "Requirement already satisfied: mpmath>=0.19 in /opt/miniconda3/lib/python3.11/site-packages (from sympy==1.9.dev0) (1.3.0)\n",
      "Installing collected packages: sympy\n",
      "  Attempting uninstall: sympy\n",
      "    Found existing installation: sympy 1.9.dev0\n",
      "    Uninstalling sympy-1.9.dev0:\n",
      "      Successfully uninstalled sympy-1.9.dev0\n",
      "  Running setup.py develop for sympy\n",
      "Successfully installed sympy-1.9.dev0\n",
      "WARNING: Running pip as the 'root' user can result in broken permissions and conflicting behaviour with the system package manager. It is recommended to use a virtual environment instead: https://pip.pypa.io/warnings/venv\n",
      "\n"
     ]
    }
   ],
   "source": [
    "response = client.get_execution()\n",
    "\n",
    "print(response.output)"
   ]
  },
  {
   "cell_type": "code",
   "execution_count": 20,
   "metadata": {},
   "outputs": [
    {
     "name": "stdout",
     "output_type": "stream",
     "text": [
      "{\n",
      "  \"repo\": \"sympy/sympy\",\n",
      "  \"instance_id\": \"sympy__sympy-21847\",\n",
      "  \"base_commit\": \"d9b18c518d64d0ebe8e35a98c2fb519938b9b151\",\n",
      "  \"patch\": \"diff --git a/sympy/polys/monomials.py b/sympy/polys/monomials.py\\n--- a/sympy/polys/monomials.py\\n+++ b/sympy/polys/monomials.py\\n@@ -127,7 +127,7 @@ def itermonomials(variables, max_degrees, min_degrees=None):\\n                 for variable in item:\\n                     if variable != 1:\\n                         powers[variable] += 1\\n-                if max(powers.values()) >= min_degree:\\n+                if sum(powers.values()) >= min_degree:\\n                     monomials_list_comm.append(Mul(*item))\\n             yield from set(monomials_list_comm)\\n         else:\\n@@ -139,7 +139,7 @@ def itermonomials(variables, max_degrees, min_degrees=None):\\n                 for variable in item:\\n                     if variable != 1:\\n                         powers[variable] += 1\\n-                if max(powers.values()) >= min_degree:\\n+                if sum(powers.values()) >= min_degree:\\n                     monomials_list_non_comm.append(Mul(*item))\\n             yield from set(monomials_list_non_comm)\\n     else:\\n\",\n",
      "  \"test_patch\": \"diff --git a/sympy/polys/tests/test_monomials.py b/sympy/polys/tests/test_monomials.py\\n--- a/sympy/polys/tests/test_monomials.py\\n+++ b/sympy/polys/tests/test_monomials.py\\n@@ -15,7 +15,6 @@\\n from sympy.core import S, symbols\\n from sympy.testing.pytest import raises\\n \\n-\\n def test_monomials():\\n \\n     # total_degree tests\\n@@ -114,6 +113,9 @@ def test_monomials():\\n     assert set(itermonomials([x], [3], [1])) == {x, x**3, x**2}\\n     assert set(itermonomials([x], [3], [2])) == {x**3, x**2}\\n \\n+    assert set(itermonomials([x, y], 3, 3)) == {x**3, x**2*y, x*y**2, y**3}\\n+    assert set(itermonomials([x, y], 3, 2)) == {x**2, x*y, y**2, x**3, x**2*y, x*y**2, y**3}\\n+\\n     assert set(itermonomials([x, y], [0, 0])) == {S.One}\\n     assert set(itermonomials([x, y], [0, 1])) == {S.One, y}\\n     assert set(itermonomials([x, y], [0, 2])) == {S.One, y, y**2}\\n@@ -132,6 +134,15 @@ def test_monomials():\\n             {S.One, y**2, x*y**2, x, x*y, x**2, x**2*y**2, y, x**2*y}\\n \\n     i, j, k = symbols('i j k', commutative=False)\\n+    assert set(itermonomials([i, j, k], 2, 2)) == \\\\\\n+            {k*i, i**2, i*j, j*k, j*i, k**2, j**2, k*j, i*k}\\n+    assert set(itermonomials([i, j, k], 3, 2)) == \\\\\\n+            {j*k**2, i*k**2, k*i*j, k*i**2, k**2, j*k*j, k*j**2, i*k*i, i*j,\\n+                    j**2*k, i**2*j, j*i*k, j**3, i**3, k*j*i, j*k*i, j*i,\\n+                    k**2*j, j*i**2, k*j, k*j*k, i*j*i, j*i*j, i*j**2, j**2,\\n+                    k*i*k, i**2, j*k, i*k, i*k*j, k**3, i**2*k, j**2*i, k**2*i,\\n+                    i*j*k, k*i\\n+            }\\n     assert set(itermonomials([i, j, k], [0, 0, 0])) == {S.One}\\n     assert set(itermonomials([i, j, k], [0, 0, 1])) == {1, k}\\n     assert set(itermonomials([i, j, k], [0, 1, 0])) == {1, j}\\n\",\n",
      "  \"problem_statement\": \"itermonomials returns incorrect monomials when using min_degrees argument\\n`itermonomials` returns incorrect monomials when using optional `min_degrees` argument\\r\\n\\r\\nFor example, the following code introduces three symbolic variables and generates monomials with max and min degree of 3:\\r\\n\\r\\n\\r\\n```\\r\\nimport sympy as sp\\r\\nfrom sympy.polys.orderings import monomial_key\\r\\n\\r\\nx1, x2, x3 = sp.symbols('x1, x2, x3')\\r\\nstates = [x1, x2, x3]\\r\\nmax_degrees = 3\\r\\nmin_degrees = 3\\r\\nmonomials = sorted(sp.itermonomials(states, max_degrees, min_degrees=min_degrees), \\r\\n                   key=monomial_key('grlex', states))\\r\\nprint(monomials)\\r\\n```\\r\\nThe code returns `[x3**3, x2**3, x1**3]`, when it _should_ also return monomials such as `x1*x2**2, x2*x3**2, etc...` that also have total degree of 3. This behaviour is inconsistent with the documentation that states that \\r\\n\\r\\n> A generator of all monomials `monom` is returned, such that either `min_degree <= total_degree(monom) <= max_degree`...\\r\\n\\r\\nThe monomials are also missing when `max_degrees` is increased above `min_degrees`.\\n\",\n",
      "  \"hints_text\": \"Doesn't look like the `min_degrees` argument is actually used anywhere in the codebase. Also there don't seem to be any nontrivial tests for passing `min_degrees` as an integer.\\r\\n\\r\\nThe issue would be fixed with this diff and some tests in `test_monomials.py`:\\r\\n```diff\\r\\ndiff --git a/sympy/polys/monomials.py b/sympy/polys/monomials.py\\r\\nindex 0e84403307..d2cd3451e5 100644\\r\\n--- a/sympy/polys/monomials.py\\r\\n+++ b/sympy/polys/monomials.py\\r\\n@@ -127,7 +127,7 @@ def itermonomials(variables, max_degrees, min_degrees=None):\\r\\n                 for variable in item:\\r\\n                     if variable != 1:\\r\\n                         powers[variable] += 1\\r\\n-                if max(powers.values()) >= min_degree:\\r\\n+                if sum(powers.values()) >= min_degree:\\r\\n                     monomials_list_comm.append(Mul(*item))\\r\\n             yield from set(monomials_list_comm)\\r\\n         else:\\r\\n@@ -139,7 +139,7 @@ def itermonomials(variables, max_degrees, min_degrees=None):\\r\\n                 for variable in item:\\r\\n                     if variable != 1:\\r\\n                         powers[variable] += 1\\r\\n-                if max(powers.values()) >= min_degree:\\r\\n+                if sum(powers.values()) >= min_degree:\\r\\n                     monomials_list_non_comm.append(Mul(*item))\\r\\n             yield from set(monomials_list_non_comm)\\r\\n     else:\\r\\n```\\r\\n\",\n",
      "  \"created_at\": \"2021-08-10T17:41:59Z\",\n",
      "  \"version\": \"1.9\",\n",
      "  \"FAIL_TO_PASS\": \"[\\\"test_monomials\\\"]\",\n",
      "  \"PASS_TO_PASS\": \"[\\\"test_monomial_count\\\", \\\"test_monomial_mul\\\", \\\"test_monomial_div\\\", \\\"test_monomial_gcd\\\", \\\"test_monomial_lcm\\\", \\\"test_monomial_max\\\", \\\"test_monomial_pow\\\", \\\"test_monomial_min\\\", \\\"test_monomial_divides\\\"]\",\n",
      "  \"environment_setup_commit\": \"f9a6f50ec0c74d935c50a6e9c9b2cb0469570d91\"\n",
      "}\n",
      "source /opt/miniconda3/bin/activate\n",
      "conda activate testbed\n",
      "cd /testbed\n",
      "git config --global --add safe.directory /testbed\n",
      "cd /testbed\n",
      "git status\n",
      "git show\n",
      "git diff d9b18c518d64d0ebe8e35a98c2fb519938b9b151\n",
      "source /opt/miniconda3/bin/activate\n",
      "conda activate testbed\n",
      "python -m pip install -e .\n"
     ]
    }
   ],
   "source": [
    "from testbed.swebench.test_spec import make_env_setup_script_list\n",
    "from testbed.swebench.utils import load_swebench_instance\n",
    "from datasets import Dataset, load_dataset\n",
    "from typing import cast, Optional\n",
    "import json\n",
    "dataset = cast(Dataset, load_dataset(\"princeton-nlp/SWE-bench_Lite\", split=\"test\"))\n",
    "\n",
    "for instance in dataset:\n",
    "    if instance[\"instance_id\"] == instance_id:\n",
    "        print(json.dumps(instance, indent=2))\n",
    "\n",
    "instance = load_swebench_instance(instance_id=instance_id, name=\"princeton-nlp/SWE-bench_Lite\")\n",
    "setup_commands = make_env_setup_script_list(instance)\n",
    "\n",
    "for command in setup_commands:\n",
    "    print(command)\n"
   ]
  },
  {
   "cell_type": "code",
   "execution_count": 21,
   "metadata": {},
   "outputs": [],
   "source": [
    "client.execute_commands(setup_commands)"
   ]
  },
  {
   "cell_type": "code",
   "execution_count": 10,
   "metadata": {},
   "outputs": [
    {
     "name": "stderr",
     "output_type": "stream",
     "text": [
      "ERROR:testbed.client.client:Error during run_evaluation: 500 Server Error: INTERNAL SERVER ERROR for url: http://4.225.198.187:8000/run_evaluation\n"
     ]
    },
    {
     "name": "stdout",
     "output_type": "stream",
     "text": [
      "None\n"
     ]
    }
   ],
   "source": [
    "from testbed.schema import Prediction\n",
    "instance_id = \"sympy__sympy-21847\"\n",
    "\n",
    "prediction = Prediction(run_id=\"testing\", instance_id=instance_id, patch=\"\")\n",
    "result = client.run_evaluation(prediction)\n",
    "print(result)"
   ]
  },
  {
   "cell_type": "code",
   "execution_count": 11,
   "metadata": {},
   "outputs": [],
   "source": [
    "# manager.delete_testbed(testbed_id)"
   ]
  }
 ],
 "metadata": {
  "kernelspec": {
   "display_name": "Python 3 (ipykernel)",
   "language": "python",
   "name": "python3"
  },
  "language_info": {
   "codemirror_mode": {
    "name": "ipython",
    "version": 3
   },
   "file_extension": ".py",
   "mimetype": "text/x-python",
   "name": "python",
   "nbconvert_exporter": "python",
   "pygments_lexer": "ipython3",
   "version": "3.12.4"
  }
 },
 "nbformat": 4,
 "nbformat_minor": 4
}
