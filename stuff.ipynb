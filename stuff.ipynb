{
 "cells": [
  {
   "cell_type": "code",
   "execution_count": 7,
   "metadata": {},
   "outputs": [
    {
     "ename": "ModuleNotFoundError",
     "evalue": "No module named 'testbed'",
     "output_type": "error",
     "traceback": [
      "\u001b[0;31m---------------------------------------------------------------------------\u001b[0m",
      "\u001b[0;31mModuleNotFoundError\u001b[0m                       Traceback (most recent call last)",
      "Cell \u001b[0;32mIn[7], line 3\u001b[0m\n\u001b[1;32m      1\u001b[0m \u001b[38;5;28;01mimport\u001b[39;00m \u001b[38;5;21;01mlogging\u001b[39;00m\n\u001b[1;32m      2\u001b[0m \u001b[38;5;28;01mfrom\u001b[39;00m \u001b[38;5;21;01mkubernetes\u001b[39;00m \u001b[38;5;28;01mimport\u001b[39;00m config\n\u001b[0;32m----> 3\u001b[0m \u001b[38;5;28;01mfrom\u001b[39;00m \u001b[38;5;21;01mtestbed\u001b[39;00m\u001b[38;5;21;01m.\u001b[39;00m\u001b[38;5;21;01mclient\u001b[39;00m\u001b[38;5;21;01m.\u001b[39;00m\u001b[38;5;21;01mmanager\u001b[39;00m \u001b[38;5;28;01mimport\u001b[39;00m TestbedManager\n\u001b[1;32m      5\u001b[0m logging\u001b[38;5;241m.\u001b[39mbasicConfig(level\u001b[38;5;241m=\u001b[39mlogging\u001b[38;5;241m.\u001b[39mINFO)\n\u001b[1;32m      6\u001b[0m logger \u001b[38;5;241m=\u001b[39m logging\u001b[38;5;241m.\u001b[39mgetLogger(\u001b[38;5;18m__name__\u001b[39m)\n",
      "\u001b[0;31mModuleNotFoundError\u001b[0m: No module named 'testbed'"
     ]
    }
   ],
   "source": [
    "import logging\n",
    "from kubernetes import config\n",
    "from testbed.client.manager import TestbedManager\n",
    "\n",
    "logging.basicConfig(level=logging.INFO)\n",
    "logger = logging.getLogger(__name__)\n",
    "\n",
    "config.load_kube_config()\n",
    "manager = TestbedManager(\"testbed-dev\", True)"
   ]
  },
  {
   "cell_type": "code",
   "execution_count": 2,
   "metadata": {},
   "outputs": [
    {
     "name": "stderr",
     "output_type": "stream",
     "text": [
      "INFO:testbed.client.manager:Deleting all testbeds\n",
      "WARNING:testbed.client.manager:Unexpected status for job sympy-sympy-21847-testbed-lv7ev deletion: {'startTime': '2024-08-04T10:43:34Z', 'active': 1, 'failed': 1, 'terminating': 1, 'uncountedTerminatedPods': {}, 'ready': 0}\n",
      "INFO:testbed.client.manager:Deleted 1 testbeds\n"
     ]
    },
    {
     "name": "stdout",
     "output_type": "stream",
     "text": [
      "Deleted 1 testbeds\n"
     ]
    }
   ],
   "source": [
    "deleted_count = manager.delete_all_testbeds()\n",
    "print(f\"Deleted {deleted_count} testbeds\")"
   ]
  },
  {
   "cell_type": "code",
   "execution_count": 3,
   "metadata": {},
   "outputs": [
    {
     "name": "stdout",
     "output_type": "stream",
     "text": [
      "Testbed ID: sympy-sympy-21847-testbed-lv7ev\n",
      "Instance ID: sympy__sympy-21847\n",
      "Pod Phase: Running\n",
      "Testbed Ready: True\n",
      "Sidecar Ready: True\n",
      "---\n"
     ]
    }
   ],
   "source": [
    "# For listing testbeds (summary view)\n",
    "for testbed in manager.list_testbeds():\n",
    "    print(f\"Testbed ID: {testbed.testbed_id}\")\n",
    "    print(f\"Instance ID: {testbed.instance_id}\")\n",
    "    print(f\"Pod Phase: {testbed.status.pod_phase}\")\n",
    "    print(f\"Testbed Ready: {testbed.status.testbed_ready}\")\n",
    "    print(f\"Sidecar Ready: {testbed.status.sidecar_ready}\")\n",
    "    print(\"---\")\n",
    "\n",
    "    testbed_id = testbed.testbed_id"
   ]
  },
  {
   "cell_type": "code",
   "execution_count": 4,
   "metadata": {},
   "outputs": [
    {
     "name": "stderr",
     "output_type": "stream",
     "text": [
      "INFO:testbed.client.manager:create_testbed(user: None, instance_id: sympy__sympy-21847)\n",
      "INFO:testbed.client.manager:create_testbed(user: None, instance_id: sympy__sympy-21847, testbed_id: sympy-sympy-21847-testbed-x7xnq) Job and Service created successfully in namespace testbed-dev.\n"
     ]
    },
    {
     "name": "stdout",
     "output_type": "stream",
     "text": [
      "Created testbed with id sympy-sympy-21847-testbed-x7xnq\n"
     ]
    }
   ],
   "source": [
    "instance_id = \"sympy__sympy-21847\"\n",
    "response = manager.create_testbed(instance_id=instance_id)\n",
    "testbed_id = response.testbed_id\n",
    "\n",
    "print(f\"Created testbed with id {testbed_id}\")"
   ]
  },
  {
   "cell_type": "code",
   "execution_count": 5,
   "metadata": {},
   "outputs": [
    {
     "name": "stdout",
     "output_type": "stream",
     "text": [
      "Testbed ID: sympy-sympy-21847-testbed-x7xnq | Phase: Pending | IP: N/A | Testbed: False/unknown | Sidecar: False/unknown | Time: 0s"
     ]
    },
    {
     "name": "stdout",
     "output_type": "stream",
     "text": [
      "Testbed ID: sympy-sympy-21847-testbed-x7xnq | Phase: Pending | IP: 4.225.50.70 | Testbed: False/unknown | Sidecar: False/unknown | Time: 30s"
     ]
    }
   ],
   "source": [
    "from testbed.utils import wait_for_testbed_ready\n",
    "\n",
    "testbed = wait_for_testbed_ready(manager, testbed_id)"
   ]
  },
  {
   "cell_type": "code",
   "execution_count": null,
   "metadata": {},
   "outputs": [
    {
     "name": "stdout",
     "output_type": "stream",
     "text": [
      "Client created\n"
     ]
    },
    {
     "name": "stderr",
     "output_type": "stream",
     "text": [
      "ERROR:testbed.client.client:Error during ping: HTTPConnectionPool(host='135.225.17.216', port=8000): Max retries exceeded with url: /health (Caused by ConnectTimeoutError(<urllib3.connection.HTTPConnection object at 0x79b0b23a47a0>, 'Connection to 135.225.17.216 timed out. (connect timeout=30)'))\n"
     ]
    },
    {
     "data": {
      "text/plain": [
       "False"
      ]
     },
     "execution_count": 6,
     "metadata": {},
     "output_type": "execute_result"
    }
   ],
   "source": [
    "client = manager.create_client(testbed_id, timeout=120)\n",
    "print(\"Client created\")\n",
    "client.check_health()"
   ]
  },
  {
   "cell_type": "code",
   "execution_count": null,
   "metadata": {},
   "outputs": [
    {
     "name": "stdout",
     "output_type": "stream",
     "text": [
      "{'instance_id': 'sympy__sympy-21847', 'patch_applied': True, 'resolved': True, 'tests_status': {'FAIL_TO_FAIL': {'failure': [], 'success': []}, 'FAIL_TO_PASS': {'failure': [], 'success': ['test_monomials']}, 'PASS_TO_FAIL': {'failure': [], 'success': []}, 'PASS_TO_PASS': {'failure': [], 'success': ['test_monomial_count', 'test_monomial_mul', 'test_monomial_div', 'test_monomial_gcd', 'test_monomial_lcm', 'test_monomial_max', 'test_monomial_pow', 'test_monomial_min', 'test_monomial_divides']}}}\n"
     ]
    }
   ],
   "source": [
    "from testbed.schema import Prediction\n",
    "instance_id = \"sympy__sympy-21847\"\n",
    "\n",
    "prediction = Prediction(run_id=\"testing\", instance_id=instance_id, patch=\"\")\n",
    "result = client.run_evaluation(prediction)\n",
    "print(result)"
   ]
  },
  {
   "cell_type": "code",
   "execution_count": null,
   "metadata": {},
   "outputs": [],
   "source": [
    "# manager.delete_testbed(testbed_id)"
   ]
  }
 ],
 "metadata": {
  "kernelspec": {
   "display_name": ".venv",
   "language": "python",
   "name": "python3"
  },
  "language_info": {
   "codemirror_mode": {
    "name": "ipython",
    "version": 3
   },
   "file_extension": ".py",
   "mimetype": "text/x-python",
   "name": "python",
   "nbconvert_exporter": "python",
   "pygments_lexer": "ipython3",
   "version": "3.12.4"
  }
 },
 "nbformat": 4,
 "nbformat_minor": 2
}
